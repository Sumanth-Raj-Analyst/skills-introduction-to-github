{
  "nbformat": 4,
  "nbformat_minor": 0,
  "metadata": {
    "colab": {
      "provenance": [],
      "include_colab_link": true
    },
    "kernelspec": {
      "name": "python3",
      "display_name": "Python 3"
    },
    "language_info": {
      "name": "python"
    }
  },
  "cells": [
    {
      "cell_type": "markdown",
      "metadata": {
        "id": "view-in-github",
        "colab_type": "text"
      },
      "source": [
        "<a href=\"https://colab.research.google.com/github/Sumanth-Raj-Analyst/skills-introduction-to-github/blob/main/Numpy.ipynb\" target=\"_parent\"><img src=\"https://colab.research.google.com/assets/colab-badge.svg\" alt=\"Open In Colab\"/></a>"
      ]
    },
    {
      "cell_type": "code",
      "execution_count": null,
      "metadata": {
        "id": "NnOCbvWfEarW"
      },
      "outputs": [],
      "source": [
        " import numpy as np"
      ]
    },
    {
      "cell_type": "markdown",
      "source": [
        "#creation of array:\n",
        "\n",
        "syntax: np.array(var/value)"
      ],
      "metadata": {
        "id": "gGh1bWgEEmhV"
      }
    },
    {
      "cell_type": "code",
      "source": [
        "l=[10,20.5,3+4j,True]\n",
        "arr=np.array(l)\n",
        "print(arr)\n",
        "\n",
        "print(type(arr))\n",
        "\n",
        "type(arr[2])"
      ],
      "metadata": {
        "colab": {
          "base_uri": "https://localhost:8080/"
        },
        "id": "mPZ593huEsZO",
        "outputId": "5e6303ea-ea0a-44b9-ba23-7ead242002e0"
      },
      "execution_count": null,
      "outputs": [
        {
          "output_type": "stream",
          "name": "stdout",
          "text": [
            "[10. +0.j 20.5+0.j  3. +4.j  1. +0.j]\n",
            "<class 'numpy.ndarray'>\n"
          ]
        },
        {
          "output_type": "execute_result",
          "data": {
            "text/plain": [
              "numpy.complex128"
            ]
          },
          "metadata": {},
          "execution_count": 3
        }
      ]
    },
    {
      "cell_type": "code",
      "source": [
        "# l1=[10,20,30.5,True,{12,36},{\"Name\":\"python\",\"Score\":90}]\n",
        "\n",
        "# l1[4]\n",
        "# l1[5][\"Name\"]=\"Java\"\n",
        "\n",
        "# d={\"Name\":\"python\",\"Score\":90}\n",
        "# d.keys()\n",
        "\n",
        "l2=[[10,12],(10,20.5),[20.5,10]]\n",
        "np.array(l2)\n"
      ],
      "metadata": {
        "colab": {
          "base_uri": "https://localhost:8080/"
        },
        "id": "iRicWtAjG4aG",
        "outputId": "a8f93837-3323-4545-c2c2-760e0bbdaa5c"
      },
      "execution_count": null,
      "outputs": [
        {
          "output_type": "execute_result",
          "data": {
            "text/plain": [
              "array([[10. , 12. ],\n",
              "       [10. , 20.5],\n",
              "       [20.5, 10. ]])"
            ]
          },
          "metadata": {},
          "execution_count": 4
        }
      ]
    },
    {
      "cell_type": "markdown",
      "source": [
        "2. Checking Dimensions:\n",
        "\n",
        "syntax: arr_var.ndim"
      ],
      "metadata": {
        "id": "vTKr1AkPMclt"
      }
    },
    {
      "cell_type": "code",
      "source": [
        "brr=np.array([10,20,30.5])\n",
        "brr.ndim"
      ],
      "metadata": {
        "colab": {
          "base_uri": "https://localhost:8080/"
        },
        "id": "s0itPMJPMcUq",
        "outputId": "abdc61d6-f54b-408a-9fd8-4a3d2a40529c"
      },
      "execution_count": null,
      "outputs": [
        {
          "output_type": "execute_result",
          "data": {
            "text/plain": [
              "1"
            ]
          },
          "metadata": {},
          "execution_count": 5
        }
      ]
    },
    {
      "cell_type": "markdown",
      "source": [
        "2.1: Creation of Bi or Multi-dimensional array:\n",
        "\n",
        "2-d: arr1=np.array([[10,20,30],[10.5,30,40]])"
      ],
      "metadata": {
        "id": "vjQY7163M06h"
      }
    },
    {
      "cell_type": "code",
      "source": [
        "set1=set([1,2,3])\n",
        "set1\n",
        "arr3=np.array(set1)\n",
        "type(arr3)\n",
        "\n",
        "tup=(10,20,30)\n",
        "arr4=np.array(tup)\n",
        "arr4\n"
      ],
      "metadata": {
        "colab": {
          "base_uri": "https://localhost:8080/"
        },
        "id": "5YzbkMNtOn02",
        "outputId": "9f18ea52-e85e-446e-f7a2-cdaf5f8d9bba"
      },
      "execution_count": null,
      "outputs": [
        {
          "output_type": "execute_result",
          "data": {
            "text/plain": [
              "array([10, 20, 30])"
            ]
          },
          "metadata": {},
          "execution_count": 6
        }
      ]
    },
    {
      "cell_type": "code",
      "source": [
        "arr1=np.array([[10,20,30],[10.5,30,40]])\n",
        "arr1\n",
        "\n"
      ],
      "metadata": {
        "colab": {
          "base_uri": "https://localhost:8080/"
        },
        "id": "wmD460GtNLsR",
        "outputId": "f4ecf34b-3bec-4c21-adab-a8d3764ad980"
      },
      "execution_count": null,
      "outputs": [
        {
          "output_type": "execute_result",
          "data": {
            "text/plain": [
              "array([[10. , 20. , 30. ],\n",
              "       [10.5, 30. , 40. ]])"
            ]
          },
          "metadata": {},
          "execution_count": 7
        }
      ]
    },
    {
      "cell_type": "code",
      "source": [
        "arr5=np.array([[[10,12],[12,24]],[[25,31],[25,30]]])\n",
        "print(arr5)\n",
        "arr5.shape\n"
      ],
      "metadata": {
        "colab": {
          "base_uri": "https://localhost:8080/"
        },
        "id": "YRbkH3g3P3do",
        "outputId": "7ae6ffd4-6d0b-45a0-8462-b496d2783e12"
      },
      "execution_count": null,
      "outputs": [
        {
          "output_type": "stream",
          "name": "stdout",
          "text": [
            "[[[10 12]\n",
            "  [12 24]]\n",
            "\n",
            " [[25 31]\n",
            "  [25 30]]]\n"
          ]
        },
        {
          "output_type": "execute_result",
          "data": {
            "text/plain": [
              "(2, 2, 2)"
            ]
          },
          "metadata": {},
          "execution_count": 8
        }
      ]
    },
    {
      "cell_type": "markdown",
      "source": [
        "3. shape: It is used to find the no of rows and columns present in your array.\n",
        "\n",
        "syntax: arr_var.shape"
      ],
      "metadata": {
        "id": "F_8MJ95yQYKn"
      }
    },
    {
      "cell_type": "code",
      "source": [
        "arr1.shape\n",
        "\n",
        "arr5.shape"
      ],
      "metadata": {
        "colab": {
          "base_uri": "https://localhost:8080/"
        },
        "id": "dgCCUsqfQqwg",
        "outputId": "b59f22f2-e20a-43a9-f0b7-dd456c43ba67"
      },
      "execution_count": null,
      "outputs": [
        {
          "output_type": "execute_result",
          "data": {
            "text/plain": [
              "(2, 2, 2)"
            ]
          },
          "metadata": {},
          "execution_count": 9
        }
      ]
    },
    {
      "cell_type": "markdown",
      "source": [
        "4. reshape: it is used to change the numnber of rows and columns in the existing array."
      ],
      "metadata": {
        "id": "JwfkA1ojTgKZ"
      }
    },
    {
      "cell_type": "code",
      "source": [
        "arr1.shape\n",
        "\n",
        "arr1.reshape(3,2)\n",
        "\n",
        "arr5.reshape(-1)"
      ],
      "metadata": {
        "colab": {
          "base_uri": "https://localhost:8080/"
        },
        "id": "E22rPnTlU3VH",
        "outputId": "777e7fc5-5aa7-4c6d-eff7-45843741c141"
      },
      "execution_count": null,
      "outputs": [
        {
          "output_type": "execute_result",
          "data": {
            "text/plain": [
              "array([10, 12, 12, 24, 25, 31, 25, 30])"
            ]
          },
          "metadata": {},
          "execution_count": 10
        }
      ]
    },
    {
      "cell_type": "markdown",
      "source": [
        "5. arange(): it is used to create the sequence of integers between the provided limit.\n",
        "\n",
        "syntax: np.arange(starting value, ending value, updation)"
      ],
      "metadata": {
        "id": "0d3N0aPuXQ4s"
      }
    },
    {
      "cell_type": "code",
      "source": [
        "a=np.arange(45,95,2)\n",
        "a"
      ],
      "metadata": {
        "colab": {
          "base_uri": "https://localhost:8080/"
        },
        "id": "E8NVZU3MYqLz",
        "outputId": "ee152ddd-d174-4ed8-d871-d6ea4309c7f8"
      },
      "execution_count": null,
      "outputs": [
        {
          "output_type": "execute_result",
          "data": {
            "text/plain": [
              "array([45, 47, 49, 51, 53, 55, 57, 59, 61, 63, 65, 67, 69, 71, 73, 75, 77,\n",
              "       79, 81, 83, 85, 87, 89, 91, 93])"
            ]
          },
          "metadata": {},
          "execution_count": 11
        }
      ]
    },
    {
      "cell_type": "markdown",
      "source": [
        "6.linspace(): syntax: np.linspace(SV, EV, UP)"
      ],
      "metadata": {
        "id": "OQB6-RtfaY9w"
      }
    },
    {
      "cell_type": "code",
      "source": [
        "np.linspace(10,100,20)"
      ],
      "metadata": {
        "colab": {
          "base_uri": "https://localhost:8080/"
        },
        "id": "oZT4cMfYabAi",
        "outputId": "2143770c-1d41-4aff-c9ff-acad1d81a402"
      },
      "execution_count": null,
      "outputs": [
        {
          "output_type": "execute_result",
          "data": {
            "text/plain": [
              "array([ 10.        ,  14.73684211,  19.47368421,  24.21052632,\n",
              "        28.94736842,  33.68421053,  38.42105263,  43.15789474,\n",
              "        47.89473684,  52.63157895,  57.36842105,  62.10526316,\n",
              "        66.84210526,  71.57894737,  76.31578947,  81.05263158,\n",
              "        85.78947368,  90.52631579,  95.26315789, 100.        ])"
            ]
          },
          "metadata": {},
          "execution_count": 12
        }
      ]
    },
    {
      "cell_type": "markdown",
      "source": [
        "7. randint(): np.random.randint(sv,ev,n)"
      ],
      "metadata": {
        "id": "BzI0SnUTWfzy"
      }
    },
    {
      "cell_type": "code",
      "source": [
        "arr5=np.random.randint(10,20,20)\n",
        "arr5"
      ],
      "metadata": {
        "colab": {
          "base_uri": "https://localhost:8080/"
        },
        "id": "PUbGehWuP2gf",
        "outputId": "2ed17408-5b1c-4afe-a1e8-58db8e16bafc"
      },
      "execution_count": null,
      "outputs": [
        {
          "output_type": "execute_result",
          "data": {
            "text/plain": [
              "array([17, 10, 18, 18, 13, 10, 18, 15, 12, 19, 17, 13, 13, 15, 18, 10, 13,\n",
              "       14, 11, 18])"
            ]
          },
          "metadata": {},
          "execution_count": 13
        }
      ]
    },
    {
      "cell_type": "markdown",
      "source": [
        "8. rand(): syntax: np.random.rand()"
      ],
      "metadata": {
        "id": "_w50ONTZX1nc"
      }
    },
    {
      "cell_type": "code",
      "source": [
        "arr6=np.random.rand()\n",
        "arr6"
      ],
      "metadata": {
        "colab": {
          "base_uri": "https://localhost:8080/"
        },
        "id": "Gvc50vKjX7fW",
        "outputId": "692f7445-208a-4481-d985-f0f864f742dc"
      },
      "execution_count": null,
      "outputs": [
        {
          "output_type": "execute_result",
          "data": {
            "text/plain": [
              "0.8021919197028097"
            ]
          },
          "metadata": {},
          "execution_count": 14
        }
      ]
    },
    {
      "cell_type": "markdown",
      "source": [
        "9. randn(): syntax: np.random.randn(n)"
      ],
      "metadata": {
        "id": "3XIiyPOxbInR"
      }
    },
    {
      "cell_type": "code",
      "source": [
        "arr6=np.random.randn(10)\n",
        "arr6"
      ],
      "metadata": {
        "colab": {
          "base_uri": "https://localhost:8080/"
        },
        "id": "tJXEHQU2bTB1",
        "outputId": "274b3bef-ef00-424f-ee16-dc187656e6cb"
      },
      "execution_count": null,
      "outputs": [
        {
          "output_type": "execute_result",
          "data": {
            "text/plain": [
              "array([ 1.04084022, -0.55752899, -1.95473811,  0.57519988,  1.01654185,\n",
              "       -1.5988889 ,  0.53262672, -0.06792132, -0.28149285, -0.37108491])"
            ]
          },
          "metadata": {},
          "execution_count": 15
        }
      ]
    },
    {
      "cell_type": "markdown",
      "source": [],
      "metadata": {
        "id": "5gqSipVnbhu0"
      }
    },
    {
      "cell_type": "markdown",
      "source": [
        "10. copy():"
      ],
      "metadata": {
        "id": "IxZ9vE3IcSHU"
      }
    },
    {
      "cell_type": "code",
      "source": [
        "\n",
        "\n",
        "arr7=np.array(a)\n",
        "print(arr7)\n",
        "print(id(arr7))\n",
        "brr=arr7.copy()\n",
        "print(brr)\n",
        "print(id(brr))\n",
        "\n",
        "arr7[2]=40\n",
        "arr7\n",
        "\n",
        "brr"
      ],
      "metadata": {
        "colab": {
          "base_uri": "https://localhost:8080/"
        },
        "id": "zhra_bIBcVw7",
        "outputId": "eda65504-fd5c-4d4c-9a18-2bfc050f3016"
      },
      "execution_count": null,
      "outputs": [
        {
          "output_type": "stream",
          "name": "stdout",
          "text": [
            "[45 47 49 51 53 55 57 59 61 63 65 67 69 71 73 75 77 79 81 83 85 87 89 91\n",
            " 93]\n",
            "135765076579728\n",
            "[45 47 49 51 53 55 57 59 61 63 65 67 69 71 73 75 77 79 81 83 85 87 89 91\n",
            " 93]\n",
            "135765076578960\n"
          ]
        },
        {
          "output_type": "execute_result",
          "data": {
            "text/plain": [
              "array([45, 47, 49, 51, 53, 55, 57, 59, 61, 63, 65, 67, 69, 71, 73, 75, 77,\n",
              "       79, 81, 83, 85, 87, 89, 91, 93])"
            ]
          },
          "metadata": {},
          "execution_count": 16
        }
      ]
    },
    {
      "cell_type": "markdown",
      "source": [
        "11. view()"
      ],
      "metadata": {
        "id": "-pif7Yk3gICv"
      }
    },
    {
      "cell_type": "code",
      "source": [
        "a=[10,20.5,True,6+4j]\n",
        "\n",
        "arr8=np.array(a)\n",
        "print(arr8)\n",
        "arr8[2]=5+4j\n",
        "print(arr8)\n",
        "print(id(arr8))\n",
        "\n",
        "brr=arr8.view()\n",
        "print(brr)\n",
        "print(id(brr))"
      ],
      "metadata": {
        "colab": {
          "base_uri": "https://localhost:8080/"
        },
        "id": "QWnNRtkWc3Oy",
        "outputId": "defac74d-3c20-43b4-9d3b-ed1d19ff9272"
      },
      "execution_count": null,
      "outputs": [
        {
          "output_type": "stream",
          "name": "stdout",
          "text": [
            "[10. +0.j 20.5+0.j  1. +0.j  6. +4.j]\n",
            "[10. +0.j 20.5+0.j  5. +4.j  6. +4.j]\n",
            "135765079557776\n",
            "[10. +0.j 20.5+0.j  5. +4.j  6. +4.j]\n",
            "135765076579632\n"
          ]
        }
      ]
    },
    {
      "cell_type": "code",
      "source": [
        "a=[10,{20.5,30},{\"Name\":\"A\",\"Roll\":10},20.5,True,3+4j]\n",
        "\n",
        "arr9=np.array(a)\n",
        "# print(arr9)\n",
        "arr9[2][\"Name\"]=\"B\"\n",
        "print(arr9)\n",
        "\n",
        "brr2=arr9.copy()\n",
        "print(brr2)"
      ],
      "metadata": {
        "colab": {
          "base_uri": "https://localhost:8080/"
        },
        "id": "7T0zn01Nhzfk",
        "outputId": "1a47c3d7-8c2d-4def-9dbf-34c32ef60bc8"
      },
      "execution_count": null,
      "outputs": [
        {
          "output_type": "stream",
          "name": "stdout",
          "text": [
            "[10 {20.5, 30} {'Name': 'B', 'Roll': 10} 20.5 True (3+4j)]\n",
            "[10 {20.5, 30} {'Name': 'B', 'Roll': 10} 20.5 True (3+4j)]\n"
          ]
        }
      ]
    },
    {
      "cell_type": "code",
      "source": [
        "a=[10,{20.5,30},{\"Name\":\"A\",\"Roll\":10},20.5,True,3+4j]\n",
        "\n",
        "arr10=np.array(a)\n",
        "print(arr10)\n",
        "\n",
        "arr10[2][\"Roll\"]=15\n",
        "print(arr10)\n",
        "\n",
        "brr=arr10.view()\n",
        "print(brr)\n",
        "\n",
        "arr10[2][\"Roll\"]=20\n",
        "print(arr10)\n",
        "\n",
        "print(brr)"
      ],
      "metadata": {
        "colab": {
          "base_uri": "https://localhost:8080/"
        },
        "id": "hbxUdlUYj5Gf",
        "outputId": "7059d949-93ee-4bc9-f898-31fe00b27565"
      },
      "execution_count": null,
      "outputs": [
        {
          "output_type": "stream",
          "name": "stdout",
          "text": [
            "[10 {20.5, 30} {'Name': 'A', 'Roll': 10} 20.5 True (3+4j)]\n",
            "[10 {20.5, 30} {'Name': 'A', 'Roll': 15} 20.5 True (3+4j)]\n",
            "[10 {20.5, 30} {'Name': 'A', 'Roll': 15} 20.5 True (3+4j)]\n",
            "[10 {20.5, 30} {'Name': 'A', 'Roll': 20} 20.5 True (3+4j)]\n",
            "[10 {20.5, 30} {'Name': 'A', 'Roll': 20} 20.5 True (3+4j)]\n"
          ]
        }
      ]
    },
    {
      "cell_type": "code",
      "source": [
        "arr5=np.arange(1,11,1)\n",
        "print(arr5)\n",
        "arr5[4]\n",
        "print(arr5[-2:-11:-2]) #fetching the odd values\n",
        "print(arr5[1:11:2]) #fetching the even values"
      ],
      "metadata": {
        "colab": {
          "base_uri": "https://localhost:8080/"
        },
        "id": "v8as2xrogWsl",
        "outputId": "bb1ed1c2-fdeb-4f33-dbab-f20270372692"
      },
      "execution_count": null,
      "outputs": [
        {
          "output_type": "stream",
          "name": "stdout",
          "text": [
            "[ 1  2  3  4  5  6  7  8  9 10]\n",
            "[9 7 5 3 1]\n",
            "[ 2  4  6  8 10]\n"
          ]
        }
      ]
    },
    {
      "cell_type": "code",
      "source": [
        "arr6=np.arange(5,50,5)\n",
        "print(arr6)\n",
        "print(arr6[::2])\n",
        "print(arr6[1::2])\n",
        "print(arr6[7::])\n",
        "print(arr6[-7::-1])"
      ],
      "metadata": {
        "colab": {
          "base_uri": "https://localhost:8080/"
        },
        "id": "iMR3qezTjjqP",
        "outputId": "e23d4550-20a4-4097-fae0-962b82f4fc57"
      },
      "execution_count": null,
      "outputs": [
        {
          "output_type": "stream",
          "name": "stdout",
          "text": [
            "[ 5 10 15 20 25 30 35 40 45]\n",
            "[ 5 15 25 35 45]\n",
            "[10 20 30 40]\n",
            "[40 45]\n",
            "[15 10  5]\n"
          ]
        }
      ]
    },
    {
      "cell_type": "code",
      "source": [
        "arr7=np.array([[5,{10:15},20,25],[30,{45:50},55,60]])\n",
        "#print(arr7)\n",
        "\n",
        "print(arr7[1][2])\n",
        "print(arr7[1][1])\n",
        "print((arr7[1][1]).keys())\n",
        "print((arr7[0][1]).values())"
      ],
      "metadata": {
        "colab": {
          "base_uri": "https://localhost:8080/"
        },
        "id": "LiaV-S2smHeW",
        "outputId": "ba4591e3-ff13-4ddf-c716-2d0ff698fdac"
      },
      "execution_count": null,
      "outputs": [
        {
          "output_type": "stream",
          "name": "stdout",
          "text": [
            "55\n",
            "{45: 50}\n",
            "dict_keys([45])\n",
            "dict_values([15])\n"
          ]
        }
      ]
    },
    {
      "cell_type": "code",
      "source": [
        "arr7=np.array([[5,10,15,20,25],[30,45,50,55,60],[65,70,75,80,85]])\n",
        "arr7\n",
        "#print(arr7)\n",
        "\n",
        "#print(arr7[1,:3])\n",
        "#print(arr7[0:3:][0:3:1])\n",
        "#arr7[:][:3]\n",
        "#arr10=arr7[0, :3]\n",
        "#arr11=arr7[1, :2]\n",
        "#np.concatenate((arr10,arr11))\n",
        "#np.append(arr11,arr10)"
      ],
      "metadata": {
        "colab": {
          "base_uri": "https://localhost:8080/"
        },
        "id": "KmK7AD2_pdjT",
        "outputId": "e3664127-ba27-4108-b023-d1e7065ed1df"
      },
      "execution_count": null,
      "outputs": [
        {
          "output_type": "execute_result",
          "data": {
            "text/plain": [
              "array([[ 5, 10, 15, 20, 25],\n",
              "       [30, 45, 50, 55, 60],\n",
              "       [65, 70, 75, 80, 85]])"
            ]
          },
          "metadata": {},
          "execution_count": 23
        }
      ]
    },
    {
      "cell_type": "code",
      "source": [
        "brr=np.arange(1,6,1)\n",
        "print(brr)\n",
        "\n",
        "crr=brr**2 #array with const\n",
        "crr"
      ],
      "metadata": {
        "colab": {
          "base_uri": "https://localhost:8080/"
        },
        "id": "adEQMAzJ3-Cj",
        "outputId": "3429eacb-7d00-4675-81ea-e74e8141c448"
      },
      "execution_count": null,
      "outputs": [
        {
          "output_type": "stream",
          "name": "stdout",
          "text": [
            "[1 2 3 4 5]\n"
          ]
        },
        {
          "output_type": "execute_result",
          "data": {
            "text/plain": [
              "array([ 1,  4,  9, 16, 25])"
            ]
          },
          "metadata": {},
          "execution_count": 24
        }
      ]
    },
    {
      "cell_type": "code",
      "source": [
        "arr1=np.array([10,20,30,40])\n",
        "print(arr1.ndim)\n",
        "arr2=np.array([20,30,40,50])\n",
        "arr1==arr2"
      ],
      "metadata": {
        "colab": {
          "base_uri": "https://localhost:8080/"
        },
        "id": "BRDxa31V4qGm",
        "outputId": "69e73b88-b98f-480c-88c4-01c9d7a562a9"
      },
      "execution_count": null,
      "outputs": [
        {
          "output_type": "stream",
          "name": "stdout",
          "text": [
            "1\n"
          ]
        },
        {
          "output_type": "execute_result",
          "data": {
            "text/plain": [
              "array([False, False, False, False])"
            ]
          },
          "metadata": {},
          "execution_count": 25
        }
      ]
    },
    {
      "cell_type": "code",
      "source": [
        "arr12=np.arange(1,6,1)\n",
        "print(arr12)\n",
        "brr12=arr12.copy()\n",
        "print(brr)\n",
        "print()\n",
        "arr12[3]=6\n",
        "print(arr12)\n",
        "brr12\n",
        "\n",
        "arr15=np.array([10,12.5,{10:15},True])\n",
        "brr15=arr15.copy()\n",
        "\n",
        "print()\n",
        "print(arr15)\n",
        "print(brr15)\n",
        "\n",
        "print()\n",
        "arr15[2][10]=20\n",
        "print(arr15)\n",
        "print(brr15)\n"
      ],
      "metadata": {
        "colab": {
          "base_uri": "https://localhost:8080/"
        },
        "id": "iwCwOwJQ3aUt",
        "outputId": "a9bc853b-d7f0-4f14-b063-c32d7aa9a359"
      },
      "execution_count": null,
      "outputs": [
        {
          "output_type": "stream",
          "name": "stdout",
          "text": [
            "[1 2 3 4 5]\n",
            "[1 2 3 4 5]\n",
            "\n",
            "[1 2 3 6 5]\n",
            "\n",
            "[10 12.5 {10: 15} True]\n",
            "[10 12.5 {10: 15} True]\n",
            "\n",
            "[10 12.5 {10: 20} True]\n",
            "[10 12.5 {10: 20} True]\n"
          ]
        }
      ]
    },
    {
      "cell_type": "code",
      "source": [
        "a=[[[10,12,13],[14,15,16],[40,41,42]],[[17,18,19],[20,21,22],[50,52,53]]]\n",
        "arr=np.array(a)\n",
        "print(arr)\n",
        "arr.shape\n",
        "#\n"
      ],
      "metadata": {
        "colab": {
          "base_uri": "https://localhost:8080/"
        },
        "id": "Pu_PxJ-rp6bH",
        "outputId": "407089bc-7d71-4b5c-c2cb-c7e09ab51216"
      },
      "execution_count": null,
      "outputs": [
        {
          "output_type": "stream",
          "name": "stdout",
          "text": [
            "[[[10 12 13]\n",
            "  [14 15 16]\n",
            "  [40 41 42]]\n",
            "\n",
            " [[17 18 19]\n",
            "  [20 21 22]\n",
            "  [50 52 53]]]\n"
          ]
        },
        {
          "output_type": "execute_result",
          "data": {
            "text/plain": [
              "(2, 3, 3)"
            ]
          },
          "metadata": {},
          "execution_count": 27
        }
      ]
    },
    {
      "cell_type": "code",
      "source": [
        "a=np.arange(5)\n",
        "a<=3"
      ],
      "metadata": {
        "colab": {
          "base_uri": "https://localhost:8080/"
        },
        "id": "qkWh8CxuXW5f",
        "outputId": "bc2a69ba-aa41-403a-8ecb-8a075f603e9d"
      },
      "execution_count": null,
      "outputs": [
        {
          "output_type": "execute_result",
          "data": {
            "text/plain": [
              "array([ True,  True,  True,  True, False])"
            ]
          },
          "metadata": {},
          "execution_count": 28
        }
      ]
    }
  ]
}